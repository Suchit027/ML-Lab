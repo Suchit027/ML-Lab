{
 "cells": [
  {
   "cell_type": "code",
   "execution_count": 1,
   "id": "3d01afff-a853-4133-95ba-bc782f3c5306",
   "metadata": {},
   "outputs": [
    {
     "name": "stdout",
     "output_type": "stream",
     "text": [
      "     Outlook  Temp Humidity    Wind Tennis\n",
      "0      Sunny   Hot     High    Weak     No\n",
      "1      Sunny   Hot     High  Strong     No\n",
      "2   Overcast   Hot     High    Weak    Yes\n",
      "3       Rain  Mild     High    Weak    Yes\n",
      "4       Rain  Cool   Normal    Weak    Yes\n",
      "5       Rain  Cool   Normal  Strong     No\n",
      "6   Overcast  Cool   Normal  Strong    Yes\n",
      "7      Sunny  Mild     High    Weak     No\n",
      "8      Sunny  Cool   Normal    Weak    Yes\n",
      "9       Rain  Mild   Normal    Weak    Yes\n",
      "10     Sunny  Mild   Normal  Strong    Yes\n",
      "11  Overcast  Mild     High  Strong    Yes\n",
      "12  Overcast   Hot   Normal    Weak    Yes\n",
      "13      Rain  Mild   Normal  Strong     No\n"
     ]
    }
   ],
   "source": [
    "import pandas as pd\n",
    "import numpy as np\n",
    "\n",
    "w_data = pd.read_csv('weather_data_tennis.csv')\n",
    "print(w_data)\n",
    "\n",
    "class Node:\n",
    "    \n",
    "    def __init__(self, ):\n",
    "        self.head = None\n",
    "        self.next = {}\n",
    "        self.end = False\n",
    "        self.ans = None\n",
    "\n",
    "class Decision_Tree:\n",
    "    \n",
    "    def __init__(self, ):\n",
    "        self.root = None\n",
    "\n",
    "    # using C4.5 so calculating gain ratio\n",
    "    def gain_ratio(self, data, attribute, classifier):\n",
    "        \n",
    "        gain_data = 0\n",
    "        \n",
    "        for x in data[classifier].unique():\n",
    "            p = len(data[data[classifier] == x]) / len(data)\n",
    "            if p == 0:\n",
    "                continue\n",
    "            gain_data += -p * np.log2(p)\n",
    "            \n",
    "        gain_att = 0\n",
    "        \n",
    "        for x in data[attribute].unique():\n",
    "            val = 0\n",
    "            for y in data[classifier].unique():\n",
    "                p = len(data[(data[attribute] == x) & (data[classifier] == y)]) / len(data[data[attribute] == x])\n",
    "                if p == 0:\n",
    "                    continue\n",
    "                val += -p * np.log2(p)\n",
    "            gain_att += val * (len(data[data[attribute] == x]) / len(data))\n",
    "        \n",
    "        split_info = 0\n",
    "        \n",
    "        for x in data[attribute].unique():\n",
    "            p = len(data[data[attribute] == x]) / len(data)\n",
    "            if p == 0:\n",
    "                continue\n",
    "            split_info += -p * np.log2(p)\n",
    "            \n",
    "        return (gain_data - gain_att) / split_info\n",
    "        \n",
    "    def split(self, data, classifier):\n",
    "        if len(data[classifier].unique()) == 1:\n",
    "            ob = Node()\n",
    "            ob.end = True\n",
    "            ob.ans = data[classifier].unique()[0]\n",
    "            return ob\n",
    "        else:\n",
    "            info_gain = float('-inf')\n",
    "            att = None\n",
    "            for x in data.columns:\n",
    "                if x == classifier:\n",
    "                    continue\n",
    "                val = self.gain_ratio(data, x, classifier)\n",
    "                if val > info_gain:\n",
    "                    info_gain = val\n",
    "                    att = x\n",
    "            ob = Node()\n",
    "            ob.head = att\n",
    "            \n",
    "            for x in data[att].unique():\n",
    "                ndata = data[data[att] == x].drop(att, axis = 1)\n",
    "                ob.next[x] = self.split(ndata, classifier)\n",
    "                \n",
    "            return ob\n",
    "            \n",
    "tree = Decision_Tree()\n",
    "tree.root = tree.split(w_data, 'Tennis')"
   ]
  },
  {
   "cell_type": "code",
   "execution_count": 2,
   "id": "dfe1d66d-bb5b-4e80-b0b7-3067b59df3eb",
   "metadata": {},
   "outputs": [
    {
     "name": "stdout",
     "output_type": "stream",
     "text": [
      "Outlook\n"
     ]
    }
   ],
   "source": [
    "print(tree.root.head)"
   ]
  },
  {
   "cell_type": "code",
   "execution_count": 3,
   "id": "269d6ea7-25f2-4678-9b34-a4d2258ebdeb",
   "metadata": {},
   "outputs": [
    {
     "name": "stdin",
     "output_type": "stream",
     "text": [
      "outlook =  Sunny\n",
      "temp =  Hot\n",
      "humidity =  Normal\n",
      "wind =  Weak\n"
     ]
    },
    {
     "name": "stdout",
     "output_type": "stream",
     "text": [
      "Yes\n"
     ]
    }
   ],
   "source": [
    "u_outlook = input(f'outlook = ')\n",
    "u_temp = input(f'temp = ')\n",
    "u_humidity = input(f'humidity = ')\n",
    "u_wind = input(f'wind = ')\n",
    "\n",
    "def dfs(curr, out, temp, humidity, wind):\n",
    "    if curr.end:\n",
    "        return curr.ans\n",
    "    if curr.head == 'Outlook':\n",
    "        return dfs(curr.next[out], out, temp, humidity, wind)\n",
    "    if curr.head == 'Temp':\n",
    "        return dfs(curr.next[temp], out, temp, humidity, wind)\n",
    "    if curr.head == 'Humidity':\n",
    "        return dfs(curr.next[humidity], out, temp, humidity, wind)\n",
    "    if curr.head == 'Wind':\n",
    "        return dfs(curr.next[wind], out, temp, humidity, wind)\n",
    "        \n",
    "print(dfs(tree.root, u_outlook, u_temp, u_humidity, u_wind))"
   ]
  },
  {
   "cell_type": "code",
   "execution_count": 4,
   "id": "16b2370d-7bbc-436f-a7e4-7cb9d1a77254",
   "metadata": {},
   "outputs": [
    {
     "name": "stdout",
     "output_type": "stream",
     "text": [
      "     Outlook  Temp Humidity    Wind Tennis\n",
      "0      Sunny   Hot     High    Weak     No\n",
      "1      Sunny   Hot     High  Strong     No\n",
      "2   Overcast   Hot     High    Weak    Yes\n",
      "3       Rain  Mild     High    Weak    Yes\n",
      "4       Rain  Cool   Normal    Weak    Yes\n",
      "5       Rain  Cool   Normal  Strong     No\n",
      "6   Overcast  Cool   Normal  Strong    Yes\n",
      "7      Sunny  Mild     High    Weak     No\n",
      "8      Sunny  Cool   Normal    Weak    Yes\n",
      "9       Rain  Mild   Normal    Weak    Yes\n",
      "10     Sunny  Mild   Normal  Strong    Yes\n",
      "11  Overcast  Mild     High  Strong    Yes\n",
      "12  Overcast   Hot   Normal    Weak    Yes\n",
      "13      Rain  Mild   Normal  Strong     No\n"
     ]
    }
   ],
   "source": [
    "import pandas as pd\n",
    "import numpy as np\n",
    "\n",
    "p_data = pd.read_csv('weather_data_tennis.csv')\n",
    "print(p_data)\n",
    "\n",
    "class Node:\n",
    "    \n",
    "    def __init__(self, ):\n",
    "        self.head = None\n",
    "        self.ans = None\n",
    "        self.next = {}\n",
    "        self.end = False\n",
    "\n",
    "class Decision_Tree:\n",
    "    \n",
    "    def __init__(self,):\n",
    "        self.root = None\n",
    "\n",
    "    # information gain with gini index for CART\n",
    "    def info_gain(self, data, classifier, attribute):\n",
    "        \n",
    "        gain_data = 1\n",
    "        \n",
    "        for x in data[classifier].unique():\n",
    "            p = len(data[data[classifier] == x]) / len(data)\n",
    "            gain_data += -(p ** 2)\n",
    "            \n",
    "        gain_att = 0\n",
    "        \n",
    "        for x in data[attribute].unique():\n",
    "            val = 1\n",
    "            for y in data[classifier].unique():\n",
    "                p = len(data[(data[classifier] == y) & (data[attribute] == x)]) / len(data[data[attribute] == x])\n",
    "                if p == 0:\n",
    "                    continue\n",
    "                val += -(p ** 2)\n",
    "            p_att = len(data[data[attribute] == x]) / len(data)\n",
    "            gain_att += p_att * val\n",
    "            \n",
    "        return gain_data - gain_att\n",
    "        \n",
    "    def split(self, data, classifier):\n",
    "        if len(data[classifier].unique()) == 1:\n",
    "            ob = Node()\n",
    "            ob.end = True\n",
    "            ob.ans = data[classifier].unique()[0]\n",
    "            return ob\n",
    "        else:\n",
    "            ob = Node()\n",
    "            att = None\n",
    "            info_gain = float('-inf')\n",
    "            for x in data.columns:\n",
    "                if x == classifier:\n",
    "                    continue\n",
    "                val = self.info_gain(data, classifier, x)\n",
    "                if val > info_gain:\n",
    "                    info_gain = val\n",
    "                    att = x\n",
    "            ob.head = att\n",
    "            \n",
    "            for x in data[att].unique():\n",
    "                ndata = data[data[att] == x]\n",
    "                ndata = ndata.drop(att, axis = 1)\n",
    "                ob.next[x] = self.split(ndata, classifier)\n",
    "                \n",
    "            return ob\n",
    "\n",
    "tree = Decision_Tree()\n",
    "tree.root = tree.split(p_data, 'Tennis')"
   ]
  },
  {
   "cell_type": "code",
   "execution_count": 5,
   "id": "bc874b03-09d3-4a6d-9d5d-cd227dea5444",
   "metadata": {},
   "outputs": [
    {
     "name": "stdin",
     "output_type": "stream",
     "text": [
      "outlook =  Sunny\n",
      "temp =  Hot\n",
      "humidity =  High\n",
      "wind =  Weak\n"
     ]
    },
    {
     "name": "stdout",
     "output_type": "stream",
     "text": [
      "No\n"
     ]
    }
   ],
   "source": [
    "u_outlook = input(f'outlook = ')\n",
    "u_temp = input(f'temp = ')\n",
    "u_humidity = input(f'humidity = ')\n",
    "u_wind = input(f'wind = ')\n",
    "\n",
    "def dfs(curr, out, temp, humidity, wind):\n",
    "    if curr.end:\n",
    "        return curr.ans\n",
    "    if curr.head == 'Outlook':\n",
    "        return dfs(curr.next[out], out, temp, humidity, wind)\n",
    "    if curr.head == 'Temp':\n",
    "        return dfs(curr.next[temp], out, temp, humidity, wind)\n",
    "    if curr.head == 'Humidity':\n",
    "        return dfs(curr.next[humidity], out, temp, humidity, wind)\n",
    "    if curr.head == 'Wind':\n",
    "        return dfs(curr.next[wind], out, temp, humidity, wind)\n",
    "        \n",
    "print(dfs(tree.root, u_outlook, u_temp, u_humidity, u_wind))"
   ]
  },
  {
   "cell_type": "code",
   "execution_count": null,
   "id": "b80e8fcb-548a-4c7e-b420-693253af77d2",
   "metadata": {},
   "outputs": [],
   "source": []
  }
 ],
 "metadata": {
  "kernelspec": {
   "display_name": "Python 3 (ipykernel)",
   "language": "python",
   "name": "python3"
  },
  "language_info": {
   "codemirror_mode": {
    "name": "ipython",
    "version": 3
   },
   "file_extension": ".py",
   "mimetype": "text/x-python",
   "name": "python",
   "nbconvert_exporter": "python",
   "pygments_lexer": "ipython3",
   "version": "3.10.12"
  }
 },
 "nbformat": 4,
 "nbformat_minor": 5
}
