{
 "cells": [
  {
   "cell_type": "code",
   "execution_count": 1,
   "id": "deb8e4df-b9bd-4f1b-96a5-fbf7d016c5da",
   "metadata": {},
   "outputs": [
    {
     "name": "stdout",
     "output_type": "stream",
     "text": [
      "0.6923076923076923\n"
     ]
    }
   ],
   "source": [
    "p_hostel = 0.6\n",
    "p_day = 0.4\n",
    "p_a_hostel = 0.3\n",
    "p_a_day = 0.2\n",
    "p_hostel_a = (p_a_hostel * p_hostel) / ((p_a_hostel * p_hostel) + (p_a_day * p_day))\n",
    "print(p_hostel_a)"
   ]
  },
  {
   "cell_type": "code",
   "execution_count": 2,
   "id": "ca7adf2a-7333-41f9-a344-3453fb286501",
   "metadata": {},
   "outputs": [
    {
     "name": "stdout",
     "output_type": "stream",
     "text": [
      "0.3333333333333333\n"
     ]
    }
   ],
   "source": [
    "p_disease = 0.01\n",
    "p_correct_disease = 0.99\n",
    "p_correct_ndisease = 0.02\n",
    "p_disease_correct = (p_correct_disease * p_disease) / ((p_correct_disease * p_disease) + (p_correct_ndisease * (1 - p_disease)))\n",
    "print(p_disease_correct)"
   ]
  },
  {
   "cell_type": "code",
   "execution_count": 25,
   "id": "68691e49-aad5-4597-9203-773f8af7aa90",
   "metadata": {},
   "outputs": [
    {
     "name": "stdout",
     "output_type": "stream",
     "text": [
      "defaultdict(<function <lambda> at 0x7f8291fe2710>, {'no': 5, 'yes': 9})\n",
      "0.204582651391162\n",
      "don't buy computer\n",
      "0.07896399241945672\n",
      "don't buy computer\n",
      "1.0\n",
      "buy computer\n",
      "0.6983240223463686\n",
      "buy computer\n",
      "0.8741258741258741\n",
      "buy computer\n",
      "0.6983240223463686\n",
      "buy computer\n",
      "1.0\n",
      "buy computer\n",
      "0.27839643652561247\n",
      "don't buy computer\n",
      "0.8916629514043691\n",
      "buy computer\n",
      "0.8741258741258741\n",
      "buy computer\n",
      "0.7328691828508611\n",
      "buy computer\n",
      "1.0\n",
      "buy computer\n",
      "1.0\n",
      "buy computer\n",
      "0.435540069686411\n",
      "don't buy computer\n"
     ]
    }
   ],
   "source": [
    "import pandas as pd\n",
    "import numpy as np\n",
    "from collections import defaultdict\n",
    "\n",
    "df = pd.read_csv('data.csv')\n",
    "n = len(df['buy_computer'])\n",
    "\n",
    "store = defaultdict(lambda: defaultdict(lambda: defaultdict(lambda: 0)))\n",
    "pdf_input = defaultdict(lambda: defaultdict(lambda: 0))\n",
    "pdf_output = defaultdict(lambda: 0)\n",
    "\n",
    "for i in range(n):\n",
    "    for x in df.columns:\n",
    "        if x == 'buy_computer':\n",
    "            continue\n",
    "        store[df['buy_computer'].iloc[i]][x][df[x].iloc[i]] += 1\n",
    "        pdf_input[x][df[x].iloc[i]] += 1\n",
    "    pdf_output[df['buy_computer'].iloc[i]] += 1\n",
    "print(pdf_output)\n",
    "for i in range(n):\n",
    "    a = 1\n",
    "    u_age = df['age'].iloc[i]\n",
    "    u_income = df['income'].iloc[i]\n",
    "    u_student = df['student'].iloc[i]\n",
    "    u_c_rating = df['credit_rating'].iloc[i]\n",
    "    #a = P(yes | age) b = P(yes|income)\n",
    "    a = ((store['yes']['age'][u_age] / pdf_output['yes']))\n",
    "    b = ((store['yes']['income'][u_income] / pdf_output['yes']))\n",
    "    #print(b)\n",
    "    c = ((store['yes']['student'][u_student] / pdf_output['yes']))\n",
    "    #print(c)\n",
    "    d = ((store['yes']['credit_rating'][u_c_rating] / pdf_output['yes']))\n",
    "    #print(d)\n",
    "    numerator = a * b * c * d * (pdf_output['yes']/n)\n",
    "\n",
    "\n",
    "    # deno\n",
    "    a = ((store['no']['age'][u_age] / pdf_output['no']))\n",
    "    #print(a)\n",
    "    b = ((store['no']['income'][u_income] / pdf_output['no']))\n",
    "    #print(b)\n",
    "    c = ((store['no']['student'][u_student] / pdf_output['no']))\n",
    "    #print(c)\n",
    "    d = ((store['no']['credit_rating'][u_c_rating] / pdf_output['no']))\n",
    "    denominator = numerator + (a * b * c * d * (pdf_output['no']/n))\n",
    "\n",
    "    p_yes = numerator/denominator\n",
    "    print(p_yes)\n",
    "    if p_yes >= 0.5:\n",
    "        print(f'buy computer')\n",
    "    else:\n",
    "        print(f\"don't buy computer\")"
   ]
  },
  {
   "cell_type": "code",
   "execution_count": 56,
   "id": "266ca0fa-9da6-4486-8357-bf3ca07083f5",
   "metadata": {},
   "outputs": [
    {
     "name": "stdin",
     "output_type": "stream",
     "text": [
      "enter the sentence  a great game it is\n"
     ]
    },
    {
     "name": "stdout",
     "output_type": "stream",
     "text": [
      "Sports\n"
     ]
    }
   ],
   "source": [
    "import pandas as pd\n",
    "import numpy as np\n",
    "from collections import defaultdict\n",
    "\n",
    "store = defaultdict(lambda: defaultdict(lambda: 0))\n",
    "pdf_sports = defaultdict(lambda: 0)\n",
    "df = pd.read_csv('textdata.csv')\n",
    "\n",
    "# storing conditional probabilities\n",
    "for i in range(len(df['text'])):\n",
    "    x = df['text'].iloc[i].split()\n",
    "    for y in x:\n",
    "        store[y.lower().strip()][df['tag'].iloc[i]] += 1\n",
    "        pdf_sports[df['tag'].iloc[i]] += 1\n",
    "\n",
    "# a is smoothening parameter\n",
    "# k is no. of features in the data\n",
    "a = 1\n",
    "k = len(store)\n",
    "\n",
    "sen = input(f'enter the sentence ')\n",
    "p, n = 1, 1\n",
    "\n",
    "# Laplace smoothening in Naive Bayes\n",
    "for x in sen.split():\n",
    "    x = x.lower()\n",
    "    p *= ((store[x]['Sports'] + a) / (pdf_sports['Sports'] + (a * k)))\n",
    "    n *= ((store[x]['Not sports'] + a) / (pdf_sports['Not sports'] + (a * k)))\n",
    "\n",
    "p *= pdf_sports['Sports']\n",
    "n *= pdf_sports['Not sports']\n",
    "if p >= n:\n",
    "    print(f'Sports')\n",
    "else:\n",
    "    print(f'Not Sports')"
   ]
  },
  {
   "cell_type": "code",
   "execution_count": 31,
   "id": "457a3b0d-ccec-4f2b-a851-309d90a7d227",
   "metadata": {},
   "outputs": [
    {
     "name": "stdout",
     "output_type": "stream",
     "text": [
      "0.204582651391162\n",
      "0.07896399241945672\n",
      "1.0\n",
      "0.6983240223463686\n",
      "0.8741258741258741\n",
      "0.6983240223463686\n",
      "1.0\n",
      "0.27839643652561247\n",
      "0.8916629514043691\n",
      "0.8741258741258741\n",
      "0.7328691828508611\n",
      "1.0\n",
      "1.0\n",
      "0.435540069686411\n"
     ]
    }
   ],
   "source": [
    "import pandas as pd\n",
    "from collections import defaultdict\n",
    "\n",
    "df = pd.read_csv('data.csv')\n",
    "inter = defaultdict(lambda: defaultdict(lambda: defaultdict(lambda: 0)))\n",
    "out = defaultdict(lambda: 0)\n",
    "n = len(df['buy_computer'])\n",
    "\n",
    "for i in range(n):\n",
    "    for x in df.columns:\n",
    "        if x == 'buy_computer':\n",
    "            continue\n",
    "        inter[df['buy_computer'].iloc[i]][x][df[x].iloc[i]] += 1\n",
    "    out[df['buy_computer'].iloc[i]] += 1\n",
    "    \n",
    "for i in range(n):\n",
    "    a, i, s, c = df['age'].iloc[i], df['income'].iloc[i], df['student'].iloc[i], df['credit_rating'].iloc[i]\n",
    "    num = (inter['yes']['age'][a] / out['yes']) * (inter['yes']['income'][i] / out['yes']) * (inter['yes']['student'][s] / out['yes']) * (inter['yes']['credit_rating'][c] / out['yes']) * (out['yes'] / n)\n",
    "    den = num + ((inter['no']['age'][a] / out['no']) * (inter['no']['income'][i] / out['no']) * (inter['no']['student'][s] / out['no']) * (inter['no']['credit_rating'][c] / out['no']) * (out['no'] / n))\n",
    "    print(num / den)\n",
    "    "
   ]
  },
  {
   "cell_type": "code",
   "execution_count": null,
   "id": "4b3af362-0e82-4f47-b3ce-9f7442379374",
   "metadata": {},
   "outputs": [],
   "source": []
  }
 ],
 "metadata": {
  "kernelspec": {
   "display_name": "Python 3 (ipykernel)",
   "language": "python",
   "name": "python3"
  },
  "language_info": {
   "codemirror_mode": {
    "name": "ipython",
    "version": 3
   },
   "file_extension": ".py",
   "mimetype": "text/x-python",
   "name": "python",
   "nbconvert_exporter": "python",
   "pygments_lexer": "ipython3",
   "version": "3.10.12"
  }
 },
 "nbformat": 4,
 "nbformat_minor": 5
}
