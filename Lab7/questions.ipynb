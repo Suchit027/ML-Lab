{
 "cells": [
  {
   "cell_type": "code",
   "execution_count": 1,
   "id": "deb8e4df-b9bd-4f1b-96a5-fbf7d016c5da",
   "metadata": {},
   "outputs": [
    {
     "name": "stdout",
     "output_type": "stream",
     "text": [
      "0.6923076923076923\n"
     ]
    }
   ],
   "source": [
    "p_hostel = 0.6\n",
    "p_day = 0.4\n",
    "p_a_hostel = 0.3\n",
    "p_a_day = 0.2\n",
    "p_hostel_a = (p_a_hostel * p_hostel) / ((p_a_hostel * p_hostel) + (p_a_day * p_day))\n",
    "print(p_hostel_a)"
   ]
  },
  {
   "cell_type": "code",
   "execution_count": 2,
   "id": "ca7adf2a-7333-41f9-a344-3453fb286501",
   "metadata": {},
   "outputs": [
    {
     "name": "stdout",
     "output_type": "stream",
     "text": [
      "0.3333333333333333\n"
     ]
    }
   ],
   "source": [
    "p_disease = 0.01\n",
    "p_correct_disease = 0.99\n",
    "p_correct_ndisease = 0.02\n",
    "p_disease_correct = (p_correct_disease * p_disease) / ((p_correct_disease * p_disease) + (p_correct_ndisease * (1 - p_disease)))\n",
    "print(p_disease_correct)"
   ]
  },
  {
   "cell_type": "code",
   "execution_count": 2,
   "id": "68691e49-aad5-4597-9203-773f8af7aa90",
   "metadata": {},
   "outputs": [
    {
     "name": "stdin",
     "output_type": "stream",
     "text": [
      "user age  <=30\n",
      "user income  high\n",
      "user student or not  no\n",
      "user credit rating  fair\n"
     ]
    },
    {
     "name": "stdout",
     "output_type": "stream",
     "text": [
      "buy computer\n"
     ]
    }
   ],
   "source": [
    "import pandas as pd\n",
    "import numpy as np\n",
    "from collections import defaultdict\n",
    "\n",
    "df = pd.read_csv('data.csv', encoding= 'ISO-8859-1')\n",
    "n = len(df['buy_computer'])\n",
    "store = defaultdict(lambda: defaultdict(lambda: defaultdict(lambda: 0)))\n",
    "\n",
    "for x in df.columns:\n",
    "    if x == 'buy computer':\n",
    "        continue\n",
    "    for i in range(n):\n",
    "        store[x][df[x].iloc[i]][df['buy_computer'].iloc[i]] += 1\n",
    "\n",
    "u_age = input(f'user age ')\n",
    "u_income = input(f'user income ')\n",
    "u_student = input(f'user student or not ')\n",
    "u_c_rating = input(f'user credit rating ')\n",
    "a = (store['age'][u_age]['yes'] / sum(store['age'][u_age].values())) * (store['income'][u_income]['yes'] / sum(store['income'][u_income].values())) * (store['student'][u_student]['yes'] / sum(store['student'][u_student].values())) * (store['credit rating'][u_c_rating]['yes'] / sum(store['credit_rating'][u_c_rating].values()))\n",
    "b = (store['age'][u_age]['no'] / sum(store['age'][u_age].values())) * (store['income'][u_income]['no'] / sum(store['income'][u_income].values())) * (store['student'][u_student]['no'] / sum(store['student'][u_student].values())) * (store['credit rating'][u_c_rating]['no'] / sum(store['credit_rating'][u_c_rating].values()))\n",
    "if a >= b:\n",
    "    print(f'buy computer')\n",
    "else:\n",
    "    print(f\"don't buy computer\")"
   ]
  },
  {
   "cell_type": "code",
   "execution_count": 16,
   "id": "266ca0fa-9da6-4486-8357-bf3ca07083f5",
   "metadata": {},
   "outputs": [
    {
     "name": "stdin",
     "output_type": "stream",
     "text": [
      "enter the sentence  A great game it is\n"
     ]
    },
    {
     "name": "stdout",
     "output_type": "stream",
     "text": [
      "Sports\n"
     ]
    }
   ],
   "source": [
    "import pandas as pd\n",
    "import numpy as np\n",
    "from collections import defaultdict\n",
    "\n",
    "store = defaultdict(lambda: defaultdict(lambda: 0))\n",
    "pdf_sports = defaultdict(lambda: 0)\n",
    "df = pd.read_csv('textdata.csv')\n",
    "\n",
    "# storing conditional probabilities\n",
    "for i in range(len(df['text'])):\n",
    "    x = df['text'].iloc[i].split()\n",
    "    for y in x:\n",
    "        store[y.lower().strip()][df['tag'].iloc[i]] += 1\n",
    "    pdf_sports[df['tag'].iloc[i]] += 1\n",
    "\n",
    "# a is smoothening parameter\n",
    "# k is no. of features in the data\n",
    "a = 1\n",
    "k = len(store)\n",
    "\n",
    "sen = input(f'enter the sentence ')\n",
    "p, n = 1, 1\n",
    "\n",
    "# Laplace smoothening in Naive Bayes\n",
    "for x in sen.split():\n",
    "    x = x.lower()\n",
    "    p *= ((store[x]['Sports'] + a) / (pdf_sports['Sports'] + (a * k)))\n",
    "    n *= ((store[x]['Not sports'] + a) / (pdf_sports['Not sports'] + (a * k)))\n",
    "\n",
    "p *= pdf_sports['Sports']\n",
    "n *= pdf_sports['Not sports']\n",
    "if p >= n:\n",
    "    print(f'Sports')\n",
    "else:\n",
    "    print(f'Not Sports')"
   ]
  },
  {
   "cell_type": "code",
   "execution_count": null,
   "id": "457a3b0d-ccec-4f2b-a851-309d90a7d227",
   "metadata": {},
   "outputs": [],
   "source": []
  }
 ],
 "metadata": {
  "kernelspec": {
   "display_name": "Python 3 (ipykernel)",
   "language": "python",
   "name": "python3"
  },
  "language_info": {
   "codemirror_mode": {
    "name": "ipython",
    "version": 3
   },
   "file_extension": ".py",
   "mimetype": "text/x-python",
   "name": "python",
   "nbconvert_exporter": "python",
   "pygments_lexer": "ipython3",
   "version": "3.10.12"
  }
 },
 "nbformat": 4,
 "nbformat_minor": 5
}
