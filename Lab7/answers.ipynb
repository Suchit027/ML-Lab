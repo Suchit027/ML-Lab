{
 "cells": [
  {
   "cell_type": "code",
   "execution_count": 1,
   "id": "deb8e4df-b9bd-4f1b-96a5-fbf7d016c5da",
   "metadata": {},
   "outputs": [
    {
     "name": "stdout",
     "output_type": "stream",
     "text": [
      "0.6923076923076923\n"
     ]
    }
   ],
   "source": [
    "p_hostel = 0.6\n",
    "p_day = 0.4\n",
    "p_a_hostel = 0.3\n",
    "p_a_day = 0.2\n",
    "p_hostel_a = (p_a_hostel * p_hostel) / ((p_a_hostel * p_hostel) + (p_a_day * p_day))\n",
    "print(p_hostel_a)"
   ]
  },
  {
   "cell_type": "code",
   "execution_count": 2,
   "id": "ca7adf2a-7333-41f9-a344-3453fb286501",
   "metadata": {},
   "outputs": [
    {
     "name": "stdout",
     "output_type": "stream",
     "text": [
      "0.3333333333333333\n"
     ]
    }
   ],
   "source": [
    "p_disease = 0.01\n",
    "p_correct_disease = 0.99\n",
    "p_correct_ndisease = 0.02\n",
    "p_disease_correct = (p_correct_disease * p_disease) / ((p_correct_disease * p_disease) + (p_correct_ndisease * (1 - p_disease)))\n",
    "print(p_disease_correct)"
   ]
  },
  {
   "cell_type": "code",
   "execution_count": 6,
   "id": "68691e49-aad5-4597-9203-773f8af7aa90",
   "metadata": {},
   "outputs": [
    {
     "name": "stdout",
     "output_type": "stream",
     "text": [
      "      age  income student credit_rating buy_computer\n",
      "0    <=30    high      no          fair           no\n",
      "1    <=30    high      no     excellent           no\n",
      "2   31-40    high      no          fair          yes\n",
      "3     >40  medium      no          fair          yes\n",
      "4     >40     low     yes          fair          yes\n",
      "5     >40     low     yes     excellent           no\n",
      "6   31-40     low     yes     excellent          yes\n",
      "7    <=30     low      no          fair           no\n",
      "8    <=30  medium     yes          fair          yes\n",
      "9     >40     low     yes          fair          yes\n",
      "10   <=30  medium     yes     excellent          yes\n",
      "11  31-40  medium      no     excellent          yes\n",
      "12  31-40    high     yes          fair          yes\n",
      "13    >40  medium      no     excellent           no\n",
      "      age  income student credit_rating buy_computer prediction\n",
      "0    <=30    high      no          fair           no         no\n",
      "1    <=30    high      no     excellent           no         no\n",
      "2   31-40    high      no          fair          yes        yes\n",
      "3     >40  medium      no          fair          yes        yes\n",
      "4     >40     low     yes          fair          yes        yes\n",
      "5     >40     low     yes     excellent           no        yes\n",
      "6   31-40     low     yes     excellent          yes        yes\n",
      "7    <=30     low      no          fair           no         no\n",
      "8    <=30  medium     yes          fair          yes        yes\n",
      "9     >40     low     yes          fair          yes        yes\n",
      "10   <=30  medium     yes     excellent          yes        yes\n",
      "11  31-40  medium      no     excellent          yes        yes\n",
      "12  31-40    high     yes          fair          yes        yes\n",
      "13    >40  medium      no     excellent           no         no\n"
     ]
    }
   ],
   "source": [
    "import pandas as pd\n",
    "import numpy as np\n",
    "from collections import defaultdict\n",
    "\n",
    "df = pd.read_csv('data.csv')\n",
    "print(df)\n",
    "store = defaultdict(lambda: 0)\n",
    "output_store = defaultdict(lambda: 0)\n",
    "n = len(df)\n",
    "\n",
    "for x in df.columns:\n",
    "    for i in range(n):\n",
    "        store[(x, df[x].iloc[i], df['buy_computer'].iloc[i])] += 1\n",
    "        output_store[(x, df['buy_computer'].iloc[i])] += 1\n",
    "\n",
    "pred = []\n",
    "for i in range(n):\n",
    "    u_age, u_inc, u_stu, u_cred = df['age'].iloc[i], df['income'].iloc[i], df['student'].iloc[i], df['credit_rating'].iloc[i]\n",
    "    num_yes = (store[('age', u_age, 'yes')] / output_store[('age', 'yes')]) * (store[('income', u_inc, 'yes')] / output_store[('income', 'yes')]) * (store[('student', u_stu, 'yes')] / output_store[('student', 'yes')]) * (store[('credit_rating', u_cred, 'yes')] / output_store[('credit_rating', 'yes')]) * (len(df[df['buy_computer'] == 'yes']) / n)\n",
    "    num_no = (store[('age', u_age, 'no')] / output_store[('age', 'no')]) * (store[('income', u_inc, 'no')] / output_store[('income', 'no')]) * (store[('student', u_stu, 'no')] / output_store[('student', 'no')]) * (store[('credit_rating', u_cred, 'no')] / output_store[('credit_rating', 'no')]) * (len(df[df['buy_computer'] == 'no']) / n)\n",
    "    if num_yes >= num_no:\n",
    "        pred.append('yes')\n",
    "    else:\n",
    "        pred.append('no')\n",
    "df['prediction'] = pred\n",
    "print(df)"
   ]
  },
  {
   "cell_type": "code",
   "execution_count": 4,
   "id": "d6070304-3153-4c03-8a7f-2f63f28abcf5",
   "metadata": {},
   "outputs": [
    {
     "name": "stdout",
     "output_type": "stream",
     "text": [
      "      age  income student credit_rating buy_computer\n",
      "0    <=30    high      no          fair           no\n",
      "1    <=30    high      no     excellent           no\n",
      "2   31-40    high      no          fair          yes\n",
      "3     >40  medium      no          fair          yes\n",
      "4     >40     low     yes          fair          yes\n",
      "5     >40     low     yes     excellent           no\n",
      "6   31-40     low     yes     excellent          yes\n",
      "7    <=30     low      no          fair           no\n",
      "8    <=30  medium     yes          fair          yes\n",
      "9     >40     low     yes          fair          yes\n",
      "10   <=30  medium     yes     excellent          yes\n",
      "11  31-40  medium      no     excellent          yes\n",
      "12  31-40    high     yes          fair          yes\n",
      "13    >40  medium      no     excellent           no\n",
      "      age  income student credit_rating buy_computer prediction\n",
      "0    <=30    high      no          fair           no         no\n",
      "1    <=30    high      no     excellent           no         no\n",
      "2   31-40    high      no          fair          yes        yes\n",
      "3     >40  medium      no          fair          yes        yes\n",
      "4     >40     low     yes          fair          yes        yes\n",
      "5     >40     low     yes     excellent           no        yes\n",
      "6   31-40     low     yes     excellent          yes        yes\n",
      "7    <=30     low      no          fair           no         no\n",
      "8    <=30  medium     yes          fair          yes        yes\n",
      "9     >40     low     yes          fair          yes        yes\n",
      "10   <=30  medium     yes     excellent          yes        yes\n",
      "11  31-40  medium      no     excellent          yes        yes\n",
      "12  31-40    high     yes          fair          yes        yes\n",
      "13    >40  medium      no     excellent           no         no\n"
     ]
    }
   ],
   "source": [
    "import pandas as pd\n",
    "\n",
    "data = pd.read_csv('data.csv')\n",
    "print(data)\n",
    "\n",
    "def naive(u_age, u_income, u_student, u_cred):\n",
    "    p_age_yes = len(data[(data['age'] == u_age) & (data['buy_computer'] == 'yes')]) / len(data[data['buy_computer'] == 'yes'])\n",
    "    p_income_yes = len(data[(data['income'] == u_income) & (data['buy_computer'] == 'yes')]) / len(data[data['buy_computer'] == 'yes'])\n",
    "    p_cred_yes = len(data[(data['credit_rating'] == u_cred) & (data['buy_computer'] == 'yes')]) / len(data[data['buy_computer'] == 'yes'])\n",
    "    p_student_yes = len(data[(data['student'] == u_student) & (data['buy_computer'] == 'yes')]) / len(data[data['buy_computer'] == 'yes'])\n",
    "    p_yes = len(data[data['buy_computer'] == 'yes']) / len(data)\n",
    "    \n",
    "    p_yes_features = p_age_yes * p_income_yes * p_cred_yes * p_student_yes * p_yes\n",
    "    \n",
    "    p_age_no = len(data[(data['age'] == u_age) & (data['buy_computer'] == 'no')]) / len(data[data['buy_computer'] == 'no'])\n",
    "    p_income_no = len(data[(data['income'] == u_income) & (data['buy_computer'] == 'no')]) / len(data[data['buy_computer'] == 'no'])\n",
    "    p_cred_no = len(data[(data['credit_rating'] == u_cred) & (data['buy_computer'] == 'no')]) / len(data[data['buy_computer'] == 'no'])\n",
    "    p_student_no = len(data[(data['student'] == u_student) & (data['buy_computer'] == 'no')]) / len(data[data['buy_computer'] == 'no'])\n",
    "    p_no = len(data[data['buy_computer'] == 'no']) / len(data)\n",
    "    \n",
    "    p_no_features = p_age_no * p_income_no * p_cred_no * p_student_no * p_no\n",
    "\n",
    "    if p_yes_features >= p_no_features:\n",
    "        return 'yes'\n",
    "    return 'no'\n",
    "\n",
    "pred = []\n",
    "for i in range(len(data)):\n",
    "    u_age = data['age'].iloc[i]\n",
    "    u_income = data['income'].iloc[i]\n",
    "    u_student = data['student'].iloc[i]\n",
    "    u_cred = data['credit_rating'].iloc[i]\n",
    "    pred.append(naive(u_age, u_income, u_student, u_cred))\n",
    "\n",
    "data['prediction'] = pred\n",
    "print(data)"
   ]
  },
  {
   "cell_type": "code",
   "execution_count": 7,
   "id": "266ca0fa-9da6-4486-8357-bf3ca07083f5",
   "metadata": {},
   "outputs": [
    {
     "name": "stdin",
     "output_type": "stream",
     "text": [
      "enter the sentence  a great game\n"
     ]
    },
    {
     "name": "stdout",
     "output_type": "stream",
     "text": [
      "Sports\n"
     ]
    }
   ],
   "source": [
    "import pandas as pd\n",
    "import numpy as np\n",
    "from collections import defaultdict\n",
    "\n",
    "store = defaultdict(lambda: 0)\n",
    "pdf_sports = defaultdict(lambda: 0)\n",
    "df = pd.read_csv('textdata.csv')\n",
    "\n",
    "# storing conditional probabilities\n",
    "for i in range(len(df['text'])):\n",
    "    x = df['text'].iloc[i].split()\n",
    "    for y in x:\n",
    "        store[(y.lower().strip(), df['tag'].iloc[i])] += 1\n",
    "    pdf_sports[df['tag'].iloc[i]] += 1\n",
    "\n",
    "# a is smoothening parameter\n",
    "# k is no. of features in the data\n",
    "a = 1\n",
    "k = len(store)\n",
    "\n",
    "sen = input(f'enter the sentence ')\n",
    "p, n = 1, 1\n",
    "\n",
    "# Laplace smoothening in Naive Bayes\n",
    "for x in sen.split():\n",
    "    x = x.lower()\n",
    "    p *= ((store[(x, 'Sports')] + a) / (pdf_sports['Sports'] + (a * k)))\n",
    "    n *= ((store[(x, 'Not sports')] + a) / (pdf_sports['Not sports'] + (a * k)))\n",
    "p *= (pdf_sports['Sports'] / 5)\n",
    "n *= pdf_sports['Not sports']\n",
    "if p >= n:\n",
    "    print(f'Sports')\n",
    "else:\n",
    "    print(f'Not Sports')"
   ]
  },
  {
   "cell_type": "code",
   "execution_count": null,
   "id": "4b3af362-0e82-4f47-b3ce-9f7442379374",
   "metadata": {},
   "outputs": [],
   "source": []
  }
 ],
 "metadata": {
  "kernelspec": {
   "display_name": "Python 3 (ipykernel)",
   "language": "python",
   "name": "python3"
  },
  "language_info": {
   "codemirror_mode": {
    "name": "ipython",
    "version": 3
   },
   "file_extension": ".py",
   "mimetype": "text/x-python",
   "name": "python",
   "nbconvert_exporter": "python",
   "pygments_lexer": "ipython3",
   "version": "3.10.12"
  }
 },
 "nbformat": 4,
 "nbformat_minor": 5
}
